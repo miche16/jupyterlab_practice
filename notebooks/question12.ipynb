{
 "cells": [
  {
   "cell_type": "markdown",
   "id": "ab04dfb0-0998-48cb-b159-9ddd26b1a89b",
   "metadata": {},
   "source": []
  }
 ],
 "metadata": {
  "kernelspec": {
   "display_name": "Python [conda env:jl_prac_env]",
   "language": "python",
   "name": "conda-env-jl_prac_env-py"
  },
  "language_info": {
   "codemirror_mode": {
    "name": "ipython",
    "version": 3
   },
   "file_extension": ".py",
   "mimetype": "text/x-python",
   "name": "python",
   "nbconvert_exporter": "python",
   "pygments_lexer": "ipython3",
   "version": "3.11.4"
  }
 },
 "nbformat": 4,
 "nbformat_minor": 5
}
