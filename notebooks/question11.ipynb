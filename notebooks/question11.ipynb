{
 "cells": [
  {
   "cell_type": "markdown",
   "id": "0074dd93-87b0-44ee-93aa-660f19aa4990",
   "metadata": {},
   "source": [
    "# Michele Ritchie\n",
    "Notebook for assignment 7"
   ]
  },
  {
   "cell_type": "code",
   "execution_count": 10,
   "id": "dada8b07-8bd2-40b2-a21d-433fbff4e7ac",
   "metadata": {},
   "outputs": [
    {
     "data": {
      "text/plain": [
       "5.0"
      ]
     },
     "execution_count": 10,
     "metadata": {},
     "output_type": "execute_result"
    }
   ],
   "source": [
    "def compute_mean(num_list):\n",
    "    list_sum = sum(num_list) \n",
    "    compute_mean = list_sum / len(num_list)\n",
    "    return compute_mean\n",
    "\n",
    "list = [2,4,6,8]\n",
    "compute_mean(list)"
   ]
  },
  {
   "cell_type": "markdown",
   "id": "2eddf5bc-1a6f-41ac-9dfe-d87a90ebc35a",
   "metadata": {},
   "source": [
    "$$\n",
    "\\bar{x} = \\frac{x_1 + x_2 + \\cdots + x_n}{n} = \\frac{1}{n} \\left( \\sum_{i=1}^n x_i \\right)\n",
    "$$"
   ]
  },
  {
   "cell_type": "code",
   "execution_count": null,
   "id": "17352a5d-db2f-4008-8ccc-2fc74b65b645",
   "metadata": {},
   "outputs": [],
   "source": []
  }
 ],
 "metadata": {
  "kernelspec": {
   "display_name": "Python [conda env:jl_prac_env]",
   "language": "python",
   "name": "conda-env-jl_prac_env-py"
  },
  "language_info": {
   "codemirror_mode": {
    "name": "ipython",
    "version": 3
   },
   "file_extension": ".py",
   "mimetype": "text/x-python",
   "name": "python",
   "nbconvert_exporter": "python",
   "pygments_lexer": "ipython3",
   "version": "3.11.4"
  }
 },
 "nbformat": 4,
 "nbformat_minor": 5
}
