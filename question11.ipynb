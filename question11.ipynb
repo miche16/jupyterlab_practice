{
 "cells": [
  {
   "cell_type": "markdown",
   "id": "0074dd93-87b0-44ee-93aa-660f19aa4990",
   "metadata": {},
   "source": [
    "# Michele Ritchie\n",
    "Notebook for assignment 7"
   ]
  },
  {
   "cell_type": "code",
   "execution_count": 9,
   "id": "dada8b07-8bd2-40b2-a21d-433fbff4e7ac",
   "metadata": {},
   "outputs": [
    {
     "data": {
      "text/plain": [
       "5.0"
      ]
     },
     "execution_count": 9,
     "metadata": {},
     "output_type": "execute_result"
    }
   ],
   "source": [
    "def compute_mean(num_list):\n",
    "    list_sum = sum(num_list) \n",
    "    compute_mean = list_sum / len(num_list)\n",
    "    return compute_mean\n",
    "\n",
    "list = [2,4,6,8]\n",
    "compute_mean(list)"
   ]
  },
  {
   "cell_type": "code",
   "execution_count": null,
   "id": "c54ebad2-9a7a-4d5c-b68f-a14ee27157ec",
   "metadata": {},
   "outputs": [],
   "source": []
  }
 ],
 "metadata": {
  "kernelspec": {
   "display_name": "Python [conda env:jl_prac_env]",
   "language": "python",
   "name": "conda-env-jl_prac_env-py"
  },
  "language_info": {
   "codemirror_mode": {
    "name": "ipython",
    "version": 3
   },
   "file_extension": ".py",
   "mimetype": "text/x-python",
   "name": "python",
   "nbconvert_exporter": "python",
   "pygments_lexer": "ipython3",
   "version": "3.11.4"
  }
 },
 "nbformat": 4,
 "nbformat_minor": 5
}
